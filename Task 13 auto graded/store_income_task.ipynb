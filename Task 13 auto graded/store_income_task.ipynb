{
 "cells": [
  {
   "cell_type": "markdown",
   "metadata": {
    "id": "lqt_yzRy16Wj"
   },
   "source": [
    "## Task\n",
    "\n",
    "In this compulsory task you will clean the country column and parse the date column in the **store_income_data_task.csv** file."
   ]
  },
  {
   "cell_type": "code",
   "execution_count": 1,
   "metadata": {},
   "outputs": [],
   "source": [
    "import pandas as pd\n",
    "import fuzzywuzzy\n",
    "from fuzzywuzzy import process\n",
    "import chardet"
   ]
  },
  {
   "cell_type": "code",
   "execution_count": 2,
   "metadata": {
    "id": "vBP3WN2O16Wp"
   },
   "outputs": [],
   "source": [
    "# Load up store_income_data.csv\n",
    "df= pd.read_csv('store_income_data_example.csv')"
   ]
  },
  {
   "cell_type": "markdown",
   "metadata": {
    "id": "ItqLwumA16Wr"
   },
   "source": [
    "1. Take a look at all the unique values in the \"country\" column. Then, convert the column to lowercase and remove any trailing white spaces."
   ]
  },
  {
   "cell_type": "code",
   "execution_count": 3,
   "metadata": {
    "id": "sLkzt4Hr16Wr"
   },
   "outputs": [
    {
     "name": "stdout",
     "output_type": "stream",
     "text": [
      "0                           uk \n",
      "1      united states of america\n",
      "2                 united states\n",
      "3                           uk \n",
      "4                           uk \n",
      "                 ...           \n",
      "995               united states\n",
      "996             united kingdom/\n",
      "997              united kingdom\n",
      "998                          uk\n",
      "999                south africa\n",
      "Name: country, Length: 1000, dtype: object\n",
      "0                            uk\n",
      "1      united states of america\n",
      "2                 united states\n",
      "3                            uk\n",
      "4                            uk\n",
      "                 ...           \n",
      "995               united states\n",
      "996             united kingdom/\n",
      "997              united kingdom\n",
      "998                          uk\n",
      "999                south africa\n",
      "Name: country, Length: 1000, dtype: object\n",
      "['uk' 'united states of america' 'united states' 'south africa'\n",
      " 'united states.' 'south africa/' 'south africa.' 'united kingdom'\n",
      " 'united states of america/' 'uk/' 'united kingdom.' 'united kingdom/'\n",
      " 'united states/' 'united states of america.' 'uk.']\n"
     ]
    }
   ],
   "source": [
    "df['country']= df['country'].str.lower()\n",
    "print(df['country'])\n",
    "\n",
    "df['country']= df['country'].str.strip()\n",
    "print(df['country'])\n",
    "unique_countries = df['country'].unique()\n",
    "print(unique_countries)"
   ]
  },
  {
   "cell_type": "markdown",
   "metadata": {
    "id": "P6dcDc4P16Ws"
   },
   "source": [
    "2. Note that there should only be three separate countries. Eliminate all variations, so that 'South Africa', 'United Kingdom' and 'United States' are the only three countries."
   ]
  },
  {
   "cell_type": "code",
   "execution_count": 14,
   "metadata": {
    "id": "qeV3CxMR16Ws"
   },
   "outputs": [
    {
     "data": {
      "text/plain": [
       "array(['United Kingdom', 'United States', 'South Africa'], dtype=object)"
      ]
     },
     "execution_count": 14,
     "metadata": {},
     "output_type": "execute_result"
    }
   ],
   "source": [
    "df.replace(\"uk\",\"United Kingdom\", inplace=True)\n",
    "df.replace(\"uk/\",\"United Kingdom\",inplace=True)\n",
    "df.replace(\"uk.\",\"United Kingdom\",inplace=True)\n",
    "df.replace(\"united kingdom\",\"United Kingdom\",inplace=True)\n",
    "df.replace(\"united kingdom.\",\"United Kingdom\",inplace=True)\n",
    "df.replace(\"united kingdom/\",\"United Kingdom\",inplace=True)\n",
    "\n",
    "df.replace(\"united states of america.\",\"United States\",inplace=True)\n",
    "df.replace(\"united states of america\",\"United States\",inplace=True)\n",
    "df.replace(\"united states of america/\",\"United States\",inplace=True)\n",
    "df.replace(\"united states\",\"United States\", inplace=True)\n",
    "df.replace(\"united states.\",\"United States\", inplace=True)\n",
    "df.replace(\"united states/\",\"United States\", inplace=True)\n",
    "\n",
    "df.replace(\"south africa\",\"South Africa\",inplace=True)\n",
    "df.replace(\"south africa/\",\"South Africa\",inplace=True)\n",
    "df.replace(\"south africa.\",\"South Africa\",inplace=True)\n",
    "\n",
    "df[\"country\"].unique()"
   ]
  },
  {
   "cell_type": "markdown",
   "metadata": {
    "id": "UJZDMTwP16Ws"
   },
   "source": [
    "3. Create a new column called `days_ago` in the DataFrame that is a copy of the 'date_measured' column but instead it is a number that shows how many days ago it was measured from the current date. Note that the current date can be obtained using `datetime.date.today()`."
   ]
  },
  {
   "cell_type": "code",
   "execution_count": null,
   "metadata": {
    "id": "gMJbN84P16Wt"
   },
   "outputs": [],
   "source": [
    "from datetime import date"
   ]
  },
  {
   "cell_type": "code",
   "execution_count": 15,
   "metadata": {},
   "outputs": [
    {
     "data": {
      "text/html": [
       "<div>\n",
       "<style scoped>\n",
       "    .dataframe tbody tr th:only-of-type {\n",
       "        vertical-align: middle;\n",
       "    }\n",
       "\n",
       "    .dataframe tbody tr th {\n",
       "        vertical-align: top;\n",
       "    }\n",
       "\n",
       "    .dataframe thead th {\n",
       "        text-align: right;\n",
       "    }\n",
       "</style>\n",
       "<table border=\"1\" class=\"dataframe\">\n",
       "  <thead>\n",
       "    <tr style=\"text-align: right;\">\n",
       "      <th></th>\n",
       "      <th>id</th>\n",
       "      <th>store_name</th>\n",
       "      <th>store_email</th>\n",
       "      <th>department</th>\n",
       "      <th>income</th>\n",
       "      <th>date_measured</th>\n",
       "      <th>country</th>\n",
       "    </tr>\n",
       "  </thead>\n",
       "  <tbody>\n",
       "    <tr>\n",
       "      <th>0</th>\n",
       "      <td>1</td>\n",
       "      <td>Cullen/Frost Bankers, Inc.</td>\n",
       "      <td>NaN</td>\n",
       "      <td>Clothing</td>\n",
       "      <td>$54438554.24</td>\n",
       "      <td>14 July 2006</td>\n",
       "      <td>United Kingdom</td>\n",
       "    </tr>\n",
       "    <tr>\n",
       "      <th>1</th>\n",
       "      <td>2</td>\n",
       "      <td>Nordson Corporation</td>\n",
       "      <td>NaN</td>\n",
       "      <td>Tools</td>\n",
       "      <td>$41744177.01</td>\n",
       "      <td>3 December 2006</td>\n",
       "      <td>United States</td>\n",
       "    </tr>\n",
       "    <tr>\n",
       "      <th>2</th>\n",
       "      <td>3</td>\n",
       "      <td>Stag Industrial, Inc.</td>\n",
       "      <td>NaN</td>\n",
       "      <td>Beauty</td>\n",
       "      <td>$36152340.34</td>\n",
       "      <td>12 August 2003</td>\n",
       "      <td>United States</td>\n",
       "    </tr>\n",
       "    <tr>\n",
       "      <th>3</th>\n",
       "      <td>4</td>\n",
       "      <td>FIRST REPUBLIC BANK</td>\n",
       "      <td>ecanadine3@fc2.com</td>\n",
       "      <td>Automotive</td>\n",
       "      <td>$8928350.04</td>\n",
       "      <td>26 October 2006</td>\n",
       "      <td>United Kingdom</td>\n",
       "    </tr>\n",
       "    <tr>\n",
       "      <th>4</th>\n",
       "      <td>5</td>\n",
       "      <td>Mercantile Bank Corporation</td>\n",
       "      <td>NaN</td>\n",
       "      <td>Baby</td>\n",
       "      <td>$33552742.32</td>\n",
       "      <td>24 December 1973</td>\n",
       "      <td>United Kingdom</td>\n",
       "    </tr>\n",
       "  </tbody>\n",
       "</table>\n",
       "</div>"
      ],
      "text/plain": [
       "   id                   store_name         store_email  department  \\\n",
       "0   1   Cullen/Frost Bankers, Inc.                 NaN    Clothing   \n",
       "1   2          Nordson Corporation                 NaN       Tools   \n",
       "2   3        Stag Industrial, Inc.                 NaN      Beauty   \n",
       "3   4          FIRST REPUBLIC BANK  ecanadine3@fc2.com  Automotive   \n",
       "4   5  Mercantile Bank Corporation                 NaN        Baby   \n",
       "\n",
       "         income     date_measured         country  \n",
       "0  $54438554.24      14 July 2006  United Kingdom  \n",
       "1  $41744177.01   3 December 2006   United States  \n",
       "2  $36152340.34    12 August 2003   United States  \n",
       "3   $8928350.04   26 October 2006  United Kingdom  \n",
       "4  $33552742.32  24 December 1973  United Kingdom  "
      ]
     },
     "execution_count": 15,
     "metadata": {},
     "output_type": "execute_result"
    }
   ],
   "source": [
    "df.head()"
   ]
  },
  {
   "cell_type": "code",
   "execution_count": 23,
   "metadata": {},
   "outputs": [],
   "source": [
    "df['days_ago']= pd.to_datetime(df['date_measured'], format = '%d %B %Y')"
   ]
  },
  {
   "cell_type": "code",
   "execution_count": 22,
   "metadata": {},
   "outputs": [
    {
     "data": {
      "text/plain": [
       "0   2006-07-14\n",
       "1   2006-12-03\n",
       "2   2003-08-12\n",
       "3   2006-10-26\n",
       "4   1973-12-24\n",
       "Name: days_ago, dtype: datetime64[ns]"
      ]
     },
     "execution_count": 22,
     "metadata": {},
     "output_type": "execute_result"
    }
   ],
   "source": [
    "df['days_ago'].head()"
   ]
  }
 ],
 "metadata": {
  "colab": {
   "provenance": []
  },
  "kernelspec": {
   "display_name": "Python 3 (ipykernel)",
   "language": "python",
   "name": "python3"
  },
  "language_info": {
   "codemirror_mode": {
    "name": "ipython",
    "version": 3
   },
   "file_extension": ".py",
   "mimetype": "text/x-python",
   "name": "python",
   "nbconvert_exporter": "python",
   "pygments_lexer": "ipython3",
   "version": "3.12.3"
  },
  "vscode": {
   "interpreter": {
    "hash": "63d17dc58a06b6a6d4136fb13c245dafcf53668da37b1c3052c24d689135f5bb"
   }
  }
 },
 "nbformat": 4,
 "nbformat_minor": 4
}
